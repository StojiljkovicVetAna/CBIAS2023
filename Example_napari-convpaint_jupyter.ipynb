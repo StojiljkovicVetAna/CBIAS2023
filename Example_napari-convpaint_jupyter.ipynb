{
 "cells": [
  {
   "cell_type": "markdown",
   "id": "c5b55965-da7d-4bab-b953-e9845bae7b85",
   "metadata": {},
   "source": [
    "# Example napari-convpaint in jupyter notebooks\n",
    "Although the implementation of different plugins in napari promotes its use as a standalone software for image segmentation and analysis, Napari is in the first place an image viewer for the python ecosystem.\n",
    "\n",
    "In this example, we will demonstrate how to use napari-convpaint within a jupyter notebook. This approach is very valuable for building reproducible, well-documented, and sharable analysis workflows."
   ]
  },
  {
   "cell_type": "markdown",
   "id": "fd2cbeaf-799a-41df-bb82-3e286599740c",
   "metadata": {},
   "source": [
    "## Installation\n",
    "We recommend creating a new environment and installing napari and napari-convpaint as described [in the documentation](https://guiwitz.github.io/napari-convpaint/book/Installation.html).\n",
    "\n",
    "In addition to the installation of napari-convpaint, make sure that in the same environment, you have also jupyter lab or jupyter notebook. Follow the instructions [here](https://jupyter.org/install)."
   ]
  },
  {
   "cell_type": "markdown",
   "id": "a80a34a4-3b61-4cc8-b67f-0261d064af0d",
   "metadata": {},
   "source": [
    "## Import the necessary packages"
   ]
  },
  {
   "cell_type": "code",
   "execution_count": 1,
   "id": "740745ee-4d11-4c60-830e-a836b2a612d7",
   "metadata": {},
   "outputs": [],
   "source": [
    "import napari\n",
    "from skimage import data"
   ]
  },
  {
   "cell_type": "markdown",
   "id": "3e0c7e83-d50b-4b96-8000-32b553212ef7",
   "metadata": {},
   "source": [
    "## Import images\n",
    "For this example we have chosen an image that is available on scikitimage, and it is also included in the napari builtins image samples."
   ]
  },
  {
   "cell_type": "code",
   "execution_count": 2,
   "id": "8c528302-fe28-4fde-aa15-594482033d44",
   "metadata": {},
   "outputs": [],
   "source": [
    "nuclei = data.human_mitosis()"
   ]
  },
  {
   "cell_type": "code",
   "execution_count": 3,
   "id": "35a779b8-abc1-4a93-8eec-9e0d1a93138a",
   "metadata": {},
   "outputs": [
    {
     "data": {
      "text/plain": [
       "(512, 512)"
      ]
     },
     "execution_count": 3,
     "metadata": {},
     "output_type": "execute_result"
    }
   ],
   "source": [
    "nuclei.shape"
   ]
  },
  {
   "cell_type": "code",
   "execution_count": 4,
   "id": "33df32ea-ec60-4d58-9cc8-90edb3d821dc",
   "metadata": {},
   "outputs": [
    {
     "data": {
      "text/plain": [
       "dtype('uint8')"
      ]
     },
     "execution_count": 4,
     "metadata": {},
     "output_type": "execute_result"
    }
   ],
   "source": [
    "nuclei.dtype"
   ]
  },
  {
   "cell_type": "markdown",
   "id": "9ae9f1c1-df5e-48b1-b79d-63a811b0aced",
   "metadata": {},
   "source": [
    "## Create a napari viewer"
   ]
  },
  {
   "cell_type": "markdown",
   "id": "cd8355ab-7b80-4b39-b3a1-9c8e6c895df8",
   "metadata": {},
   "source": [
    "Create a napari viewer and call it viewer"
   ]
  },
  {
   "cell_type": "code",
   "execution_count": 5,
   "id": "6ff290a7-a25d-4560-9dc8-03268a53afbf",
   "metadata": {},
   "outputs": [],
   "source": [
    "viewer = napari.Viewer()"
   ]
  },
  {
   "cell_type": "markdown",
   "id": "503ddf3d-f272-4ee1-846d-56093daea263",
   "metadata": {},
   "source": [
    "Here is how to add the widget in napari direcly from the jupyter notebook"
   ]
  },
  {
   "cell_type": "code",
   "execution_count": 6,
   "id": "eb197e49-2b7a-464d-88fb-9602241e1435",
   "metadata": {},
   "outputs": [
    {
     "data": {
      "text/plain": [
       "<napari._qt.widgets.qt_viewer_dock_widget.QtViewerDockWidget at 0x2aecdf880>"
      ]
     },
     "execution_count": 6,
     "metadata": {},
     "output_type": "execute_result"
    }
   ],
   "source": [
    "from napari_convpaint.conv_paint import ConvPaintWidget\n",
    "widget = ConvPaintWidget(napari_viewer=viewer)\n",
    "viewer.window.add_dock_widget(widget)"
   ]
  },
  {
   "cell_type": "code",
   "execution_count": 7,
   "id": "ade29e15-7116-4e6c-b03e-7dd33080eecc",
   "metadata": {},
   "outputs": [
    {
     "data": {
      "text/plain": [
       "<Image layer 'nuc' at 0x2aecd72b0>"
      ]
     },
     "execution_count": 7,
     "metadata": {},
     "output_type": "execute_result"
    }
   ],
   "source": [
    "viewer.add_image(nuclei, name='nuc')"
   ]
  },
  {
   "cell_type": "markdown",
   "id": "3744ffe2-c8cd-4ec4-a7ed-39a23a0aca24",
   "metadata": {},
   "source": [
    "# Pixel classification using napari-convpaint\n",
    "Now that you have added the image to the viewer, use napari-convpaint to generate the 'prediction' layer. \n",
    "\n",
    "The prediction assigns each pixel to the most probable class to which the pixel belongs based on the trained model. In fact, it is an array of the size of the image with the class value for each pixel. Usually, for segmentation tasks we use two classes 'background'(label=1 in napari) and 'foreground'(label=2), but convpaint can predict many more classes.\n",
    "\n",
    "Once we have obtained the prediction layer we can import the data in jupyter and continue from here to obtain the object segmentation using the [scikit-image function 'regionprops'](https://scikit-image.org/docs/stable/auto_examples/segmentation/plot_regionprops.html)"
   ]
  },
  {
   "cell_type": "code",
   "execution_count": 9,
   "id": "a8f0eb44-eeeb-4783-a016-6258e403b2ff",
   "metadata": {},
   "outputs": [],
   "source": [
    "import skimage.measure"
   ]
  },
  {
   "cell_type": "code",
   "execution_count": 10,
   "id": "b6d42bec-c2ab-44b7-9320-b7609880bf40",
   "metadata": {},
   "outputs": [],
   "source": [
    "prediction = widget.viewer.layers['prediction'].data"
   ]
  },
  {
   "cell_type": "markdown",
   "id": "8858bdcb-1d8f-4c1b-b5a5-8c2c4bb8fc18",
   "metadata": {},
   "source": [
    "As we have labeled the images with label1 being the background and label2 being the foreground, if we instead want a threshold image with background = 0 and foreground = 1 we can simply subtract 1 from each element of the array. If we skip this passage the first big object will be the background."
   ]
  },
  {
   "cell_type": "code",
   "execution_count": 11,
   "id": "ff02e4e3-634c-4a35-8086-15f737b43b5d",
   "metadata": {},
   "outputs": [],
   "source": [
    "binary = prediction == 2"
   ]
  },
  {
   "cell_type": "code",
   "execution_count": 12,
   "id": "5f991a7d-80e0-411d-9eb5-3148d1f926a4",
   "metadata": {},
   "outputs": [
    {
     "data": {
      "text/plain": [
       "array([[False, False, False, ...,  True,  True,  True],\n",
       "       [False, False, False, ...,  True,  True,  True],\n",
       "       [False, False, False, ...,  True,  True,  True],\n",
       "       ...,\n",
       "       [False, False, False, ..., False, False,  True],\n",
       "       [False, False, False, ..., False, False,  True],\n",
       "       [False, False, False, ..., False, False,  True]])"
      ]
     },
     "execution_count": 12,
     "metadata": {},
     "output_type": "execute_result"
    }
   ],
   "source": [
    "binary"
   ]
  },
  {
   "cell_type": "markdown",
   "id": "33691409-fb43-4cfa-8ce3-1135cd317770",
   "metadata": {},
   "source": [
    "## Label image"
   ]
  },
  {
   "cell_type": "code",
   "execution_count": 13,
   "id": "06a098e6-be00-4bee-be9c-d21ddfc10a16",
   "metadata": {},
   "outputs": [],
   "source": [
    "labeled_image, count = skimage.measure.label(binary, return_num=True)"
   ]
  },
  {
   "cell_type": "code",
   "execution_count": 14,
   "id": "270ec8c6-b862-48a6-92f1-aafb756d3b57",
   "metadata": {},
   "outputs": [
    {
     "data": {
      "text/plain": [
       "280"
      ]
     },
     "execution_count": 14,
     "metadata": {},
     "output_type": "execute_result"
    }
   ],
   "source": [
    "count"
   ]
  },
  {
   "cell_type": "markdown",
   "id": "0b7376ba-033d-473a-9971-659d29e660bb",
   "metadata": {},
   "source": [
    "To view the result of the labeling we can now open the labeled image in napari"
   ]
  },
  {
   "cell_type": "code",
   "execution_count": 15,
   "id": "c50c48c1-eb97-44ee-8686-48c5b3f3d634",
   "metadata": {},
   "outputs": [
    {
     "data": {
      "text/plain": [
       "<Labels layer 'nuc_labels' at 0x2b1460760>"
      ]
     },
     "execution_count": 15,
     "metadata": {},
     "output_type": "execute_result"
    }
   ],
   "source": [
    "viewer.add_labels(labeled_image, name='nuc_labels')"
   ]
  },
  {
   "cell_type": "markdown",
   "id": "c2d04193-50ac-4403-be09-ab1ad27a8b0b",
   "metadata": {},
   "source": [
    "## Watershed to split touching nuclei\n",
    "Here we could use the [watershed function](https://scikit-image.org/docs/stable/auto_examples/segmentation/plot_watershed.html) of scikit-image"
   ]
  },
  {
   "cell_type": "code",
   "execution_count": 16,
   "id": "642ba8d8-9387-4dee-a706-1d8215e89cfd",
   "metadata": {},
   "outputs": [],
   "source": [
    "import numpy as np\n",
    "from scipy import ndimage as ndi\n",
    "from skimage.segmentation import watershed\n",
    "from skimage.feature import peak_local_max"
   ]
  },
  {
   "cell_type": "code",
   "execution_count": 17,
   "id": "7031817b-81b2-46d9-ae93-b92e5db6eda6",
   "metadata": {},
   "outputs": [],
   "source": [
    "distance = ndi.distance_transform_edt(labeled_image)\n",
    "coords = peak_local_max(distance, min_distance=5, footprint=np.ones((3, 3)), labels=labeled_image)\n",
    "mask = np.zeros(distance.shape, dtype=bool)\n",
    "mask[tuple(coords.T)] = True\n",
    "markers, _ = ndi.label(mask)\n",
    "labels_split = watershed(-distance, markers, mask=labeled_image)"
   ]
  },
  {
   "cell_type": "code",
   "execution_count": 18,
   "id": "e3825ea3-3dee-4448-a8c2-2a5ee9c6209b",
   "metadata": {},
   "outputs": [
    {
     "data": {
      "text/plain": [
       "<Labels layer 'watershed' at 0x30a252e00>"
      ]
     },
     "execution_count": 18,
     "metadata": {},
     "output_type": "execute_result"
    }
   ],
   "source": [
    "viewer.add_labels(labels_split, name='watershed')"
   ]
  },
  {
   "cell_type": "markdown",
   "id": "7b566c09-28f8-4657-ab29-76744e9ed64d",
   "metadata": {},
   "source": [
    "## Filter out small objects"
   ]
  },
  {
   "cell_type": "markdown",
   "id": "336e1c59-e7df-44db-9497-503f41ca99ef",
   "metadata": {},
   "source": [
    "First we need to measure the area of the objects after watershed"
   ]
  },
  {
   "cell_type": "code",
   "execution_count": 46,
   "id": "05d9ebf9-ba68-466d-a100-4a8169d732cb",
   "metadata": {},
   "outputs": [],
   "source": [
    "from skimage.measure import regionprops_table\n",
    "from skimage.util import map_array\n",
    "import pandas as pd"
   ]
  },
  {
   "cell_type": "code",
   "execution_count": 28,
   "id": "608e59f0-787e-4106-a0b4-96b11fab2c23",
   "metadata": {},
   "outputs": [],
   "source": [
    "labels_data = regionprops_table(labels_split,\n",
    "                               properties=('label','area'))"
   ]
  },
  {
   "cell_type": "code",
   "execution_count": 31,
   "id": "6973faae-6057-4f30-85a4-9e22f985fdb9",
   "metadata": {},
   "outputs": [],
   "source": [
    "labels_table = pd.DataFrame(labels_data)"
   ]
  },
  {
   "cell_type": "code",
   "execution_count": 33,
   "id": "4e6df2a0-b318-40ce-92db-2b45e101f431",
   "metadata": {},
   "outputs": [
    {
     "data": {
      "text/html": [
       "<div>\n",
       "<style scoped>\n",
       "    .dataframe tbody tr th:only-of-type {\n",
       "        vertical-align: middle;\n",
       "    }\n",
       "\n",
       "    .dataframe tbody tr th {\n",
       "        vertical-align: top;\n",
       "    }\n",
       "\n",
       "    .dataframe thead th {\n",
       "        text-align: right;\n",
       "    }\n",
       "</style>\n",
       "<table border=\"1\" class=\"dataframe\">\n",
       "  <thead>\n",
       "    <tr style=\"text-align: right;\">\n",
       "      <th></th>\n",
       "      <th>label</th>\n",
       "      <th>area</th>\n",
       "    </tr>\n",
       "  </thead>\n",
       "  <tbody>\n",
       "    <tr>\n",
       "      <th>0</th>\n",
       "      <td>1</td>\n",
       "      <td>64.0</td>\n",
       "    </tr>\n",
       "    <tr>\n",
       "      <th>1</th>\n",
       "      <td>2</td>\n",
       "      <td>74.0</td>\n",
       "    </tr>\n",
       "    <tr>\n",
       "      <th>2</th>\n",
       "      <td>3</td>\n",
       "      <td>129.0</td>\n",
       "    </tr>\n",
       "    <tr>\n",
       "      <th>3</th>\n",
       "      <td>4</td>\n",
       "      <td>113.0</td>\n",
       "    </tr>\n",
       "    <tr>\n",
       "      <th>4</th>\n",
       "      <td>5</td>\n",
       "      <td>79.0</td>\n",
       "    </tr>\n",
       "    <tr>\n",
       "      <th>...</th>\n",
       "      <td>...</td>\n",
       "      <td>...</td>\n",
       "    </tr>\n",
       "    <tr>\n",
       "      <th>336</th>\n",
       "      <td>337</td>\n",
       "      <td>104.0</td>\n",
       "    </tr>\n",
       "    <tr>\n",
       "      <th>337</th>\n",
       "      <td>338</td>\n",
       "      <td>76.0</td>\n",
       "    </tr>\n",
       "    <tr>\n",
       "      <th>338</th>\n",
       "      <td>339</td>\n",
       "      <td>48.0</td>\n",
       "    </tr>\n",
       "    <tr>\n",
       "      <th>339</th>\n",
       "      <td>340</td>\n",
       "      <td>54.0</td>\n",
       "    </tr>\n",
       "    <tr>\n",
       "      <th>340</th>\n",
       "      <td>341</td>\n",
       "      <td>100.0</td>\n",
       "    </tr>\n",
       "  </tbody>\n",
       "</table>\n",
       "<p>341 rows × 2 columns</p>\n",
       "</div>"
      ],
      "text/plain": [
       "     label   area\n",
       "0        1   64.0\n",
       "1        2   74.0\n",
       "2        3  129.0\n",
       "3        4  113.0\n",
       "4        5   79.0\n",
       "..     ...    ...\n",
       "336    337  104.0\n",
       "337    338   76.0\n",
       "338    339   48.0\n",
       "339    340   54.0\n",
       "340    341  100.0\n",
       "\n",
       "[341 rows x 2 columns]"
      ]
     },
     "execution_count": 33,
     "metadata": {},
     "output_type": "execute_result"
    }
   ],
   "source": [
    "labels_table"
   ]
  },
  {
   "cell_type": "code",
   "execution_count": 34,
   "id": "ad2d2e34-baba-4b51-8cdb-85148976c89f",
   "metadata": {},
   "outputs": [],
   "source": [
    "area_thr = 50"
   ]
  },
  {
   "cell_type": "code",
   "execution_count": 36,
   "id": "3e817805-3adc-4064-a4a5-715c7abb42f4",
   "metadata": {},
   "outputs": [],
   "source": [
    "area_labels = labels_table['label']* (labels_table['area']>area_thr)"
   ]
  },
  {
   "cell_type": "code",
   "execution_count": 47,
   "id": "fb34ce24-2d5e-4bdf-a685-52f7653affbb",
   "metadata": {},
   "outputs": [],
   "source": [
    "filtered_labels = map_array(labels_split,\n",
    "                           np.asarray(labels_table['label']),\n",
    "                           np.asarray(area_labels))"
   ]
  },
  {
   "cell_type": "code",
   "execution_count": 48,
   "id": "c922ebb5-14d5-4283-9f1c-7612dc2dcbc9",
   "metadata": {},
   "outputs": [],
   "source": [
    "filtered_labels, count_filter = skimage.measure.label(filtered_labels, return_num=True)"
   ]
  },
  {
   "cell_type": "code",
   "execution_count": 49,
   "id": "ff8d202d-4b13-4bca-85ad-65771964fb09",
   "metadata": {},
   "outputs": [
    {
     "data": {
      "text/plain": [
       "<Labels layer 'watershed [1]' at 0x30bbf4070>"
      ]
     },
     "execution_count": 49,
     "metadata": {},
     "output_type": "execute_result"
    }
   ],
   "source": [
    "viewer.add_labels(filtered_labels, name='watershed')"
   ]
  },
  {
   "cell_type": "code",
   "execution_count": null,
   "id": "338434b8-b94b-4b29-8308-e818f615d054",
   "metadata": {},
   "outputs": [],
   "source": []
  }
 ],
 "metadata": {
  "kernelspec": {
   "display_name": "Python 3 (ipykernel)",
   "language": "python",
   "name": "python3"
  },
  "language_info": {
   "codemirror_mode": {
    "name": "ipython",
    "version": 3
   },
   "file_extension": ".py",
   "mimetype": "text/x-python",
   "name": "python",
   "nbconvert_exporter": "python",
   "pygments_lexer": "ipython3",
   "version": "3.10.13"
  }
 },
 "nbformat": 4,
 "nbformat_minor": 5
}
